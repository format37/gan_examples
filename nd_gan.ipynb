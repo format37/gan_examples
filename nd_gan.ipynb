{
 "cells": [
  {
   "cell_type": "markdown",
   "metadata": {},
   "source": [
    "# Одномерная генеративно-состязательная нейронная сеть"
   ]
  },
  {
   "cell_type": "markdown",
   "metadata": {},
   "source": [
    "https://machinelearningmastery.com/how-to-develop-a-generative-adversarial-network-for-a-1-dimensional-function-from-scratch-in-keras/    \n",
    "#### Упрощенный пример, показывающий, что дискриминатор - это обычная модель нейронной сети."
   ]
  },
  {
   "cell_type": "markdown",
   "metadata": {},
   "source": [
    "Скопировано и переведено из репозитория\n",
    "https://github.com/apple2373/chainer-GAN-1D"
   ]
  },
  {
   "cell_type": "code",
   "execution_count": 1,
   "metadata": {},
   "outputs": [],
   "source": [
    "import os"
   ]
  },
  {
   "cell_type": "code",
   "execution_count": 2,
   "metadata": {},
   "outputs": [],
   "source": [
    "os.environ[\"CUDA_VISIBLE_DEVICES\"]=\"1\""
   ]
  },
  {
   "cell_type": "code",
   "execution_count": 3,
   "metadata": {},
   "outputs": [
    {
     "name": "stderr",
     "output_type": "stream",
     "text": [
      "Using TensorFlow backend.\n"
     ]
    }
   ],
   "source": [
    "from tensorflow.keras.models import Sequential\n",
    "from tensorflow.keras.layers import Dense\n",
    "from keras.utils.vis_utils import plot_model\n",
    "import numpy as np\n",
    "from matplotlib import pyplot"
   ]
  },
  {
   "cell_type": "code",
   "execution_count": 4,
   "metadata": {},
   "outputs": [],
   "source": [
    "# Создание n реальных образцов с метками классов\n",
    "def generate_real_samples(n=100):\n",
    "    # Создадим входы в пространстве [-0.5, 0.5]\n",
    "    X1 = np.random.rand(n) - 0.5\n",
    "    # Создадим выходы X^2\n",
    "    #X2 = X1 * X1\n",
    "    X2 = np.sin(X1)*pow(X1,4)\n",
    "    # Соберем массивы\n",
    "    X1 = X1.reshape(n, 1)\n",
    "    X2 = X2.reshape(n, 1)\n",
    "    X = np.hstack((X1, X2))\n",
    "    # Создадим клас меток\n",
    "    y = np.ones((n, 1))\n",
    "    return X, y"
   ]
  },
  {
   "cell_type": "markdown",
   "metadata": {},
   "source": [
    "Первый шаг - Создадим новые точки в скрытом пространстве как входные данные для генератора. \n",
    "Этого можно добиться, вызвав NumPy функцию\n",
    "randn () для генерации массивов случайных чисел, взятых из стандартного распределения гаусса."
   ]
  },
  {
   "cell_type": "code",
   "execution_count": 5,
   "metadata": {},
   "outputs": [],
   "source": [
    "def generate_latent_points(latent_dim, n):\n",
    "    # Создадим точки в скрытом пространстве\n",
    "    x_input = np.random.randn(latent_dim * n)\n",
    "    # Преобразуем в пакет входов для сети\n",
    "    x_input = x_input.reshape(n, latent_dim)\n",
    "    return x_input"
   ]
  },
  {
   "cell_type": "code",
   "execution_count": 6,
   "metadata": {},
   "outputs": [],
   "source": [
    "# Используем генератор, чтобы сгенерировать n поддельных примеров и построить результирующий график\n",
    "def generate_fake_samples(generator, latent_dim, n):\n",
    "    # Создадим точки в скрытом пространстве\n",
    "    x_input = generate_latent_points(latent_dim, n)\n",
    "    # Спрогнозируем выходы\n",
    "    X = generator.predict(x_input)\n",
    "    # Создадим клас меток\n",
    "    y = np.zeros((n, 1))\n",
    "    return X, y"
   ]
  },
  {
   "cell_type": "markdown",
   "metadata": {},
   "source": [
    "Модель генератора принимает на вход точку из скрытого пространства и генерирует новую выборку,\n",
    "например вектор с входными и выходными элементами нашей функции, например х и х ^ 2.    \n",
    "Скрытая переменная - это скрытая или ненаблюдаемая переменная. А скрытое пространство - это многомерная\n",
    "векторное пространство этих переменных. Мы можем определить размер скрытого пространства для нашей задачи,\n",
    "а так же форму или распределение переменных в скрытом пространстве.    \n",
    "Это связано с тем, что скрытое пространство не имеет значения, пока модель генератора не начнет присваивать\n",
    "значительные точки в пространстве по мере обучения. После тренировки точки в скрытом пространстве будут\n",
    "соответствовать точкам в пространстве вывода, например в пространстве сгенерированных образцов.    \n",
    "Мы будем генерировать новые входные данные, выбирая случайные числа из стандартного распределения Гаусса,\n",
    "т.е. среднее значение нуля и стандартное отклонение единицы.    \n",
    "Входы: точка в скрытом пространстве, например пятиэлементный вектор гауссовских случайных чисел.    \n",
    "Выходы: двухэлементный вектор, представляющий сгенерированный образец для нашей функции (x и x ^ 2).    \n",
    "Модель не скомпилирована. Причина этого в том, что модель генератора не подходит напрямую."
   ]
  },
  {
   "cell_type": "code",
   "execution_count": 7,
   "metadata": {},
   "outputs": [],
   "source": [
    "# Определим модель автономного генератора\n",
    "def define_generator(latent_dim, n_outputs=2):\n",
    "    model = Sequential()\n",
    "    model.add(Dense(15, activation='relu', kernel_initializer='he_uniform', input_dim=latent_dim))\n",
    "    model.add(Dense(n_outputs, activation='linear'))\n",
    "    return model"
   ]
  },
  {
   "cell_type": "markdown",
   "metadata": {},
   "source": [
    "Модель должна взять образец из нашей задачи, например вектор с двумя элементами, и вывести предсказание классификации относительно того, является ли образец настоящим или поддельным.\n",
    "Входные данные: образец с двумя действительными значениями.  \n",
    "Выходы: двоичная классификация, вероятность того, что образец настоящий (или поддельный)."
   ]
  },
  {
   "cell_type": "code",
   "execution_count": 8,
   "metadata": {},
   "outputs": [],
   "source": [
    "def define_discriminator(n_inputs=2):\n",
    "    model = Sequential()\n",
    "    model.add(Dense(25, activation=\"relu\", kernel_initializer='he_uniform', input_dim=n_inputs))\n",
    "    model.add(Dense(1, activation=\"sigmoid\"))\n",
    "    model.compile(loss=\"binary_crossentropy\", optimizer=\"adam\", metrics=[\"accuracy\"])\n",
    "    return model"
   ]
  },
  {
   "cell_type": "markdown",
   "metadata": {},
   "source": [
    "Веса в модели генератора обновляются в зависимости от производительности модели дискриминатора.   \n",
    "Когда дискриминатор хорошо обнаруживает поддельные образцы, генератор обновляется сильнее, а\n",
    "когда модель дискриминатора относительно плохая или запутанная при обнаружении поддельных образцов,\n",
    "модель генератора обновляется слабее.   \n",
    "Это определяет отношения с нулевой суммой или противоборство между этими двумя моделями.   \n",
    "Можно найти много способов реализовать это с помощью API Keras, но, пожалуй, самый простой\n",
    "подход заключается в создании новой модели, которая включает или инкапсулирует генератор и\n",
    "модели дискриминатора.   \n",
    "В частности, можно определить новую модель GAN, которая объединяет генератор и дискриминатор\n",
    "так, что генератор получает на вход случайные точки в скрытом пространстве, генерирует\n",
    "выборки, которые напрямую передаются в модель дискриминатора, классифицируются,\n",
    "и затем выходные данные этой более крупной модели могут использоваться для обновления весов модели генератора.\n",
    "Только дискриминатор занимается различением реальных и поддельных примеров.   \n",
    "Модель генератора следит только за производительностью дискриминатора на поддельных примерах.   \n",
    "Поэтому мы отметим все слои в дискриминаторе как не обучаемые, в той\n",
    "части модели GAN, которую не следует обновлять и тренировать на поддельных примерах.   \n",
    "При обучении генератора с помощью этой включенной модели GAN есть еще одно важное изменение.   \n",
    "Мы хотим, чтобы дискриминатор считал выборки, выдаваемые генератором, настоящими, а не фальшивыми.   \n",
    "Поэтому, когда генератор обучается как часть модели GAN, мы будем отмечать сгенерированные\n",
    "образцы как настоящие (класс 1).   \n",
    "Модель дискриминатора была помечена как не обучаемая, добавлена в модель GAN и скомпилирована.   \n",
    "В этой модели веса модели дискриминатора не обучаются и не могут быть изменены, когда модель GAN \n",
    "обновляется с помощью вызовов train_on_batch ().   \n",
    "Входы: точка в скрытом пространстве, например пятиэлементный вектор гауссовских случайных чисел.   \n",
    "Выходы: двоичная классификация, вероятность того, что образец настоящий (или поддельный)."
   ]
  },
  {
   "cell_type": "code",
   "execution_count": 9,
   "metadata": {},
   "outputs": [],
   "source": [
    "# Определим комбинированную модель генератора и дискриминатора для обновления генератора\n",
    "def define_gan(generator, discriminator):\n",
    "    # Сделаем веса в дискриминаторе не обучаемыми\n",
    "    discriminator.trainable = False\n",
    "    # Соединим их\n",
    "    model = Sequential()\n",
    "    # И генератор\n",
    "    model.add(generator)\n",
    "    # Добавим дискриминатор\n",
    "    model.add(discriminator)\n",
    "    # Скомпилируем модель\n",
    "    model.compile(loss='binary_crossentropy', optimizer='adam')\n",
    "    return model"
   ]
  },
  {
   "cell_type": "code",
   "execution_count": 10,
   "metadata": {},
   "outputs": [],
   "source": [
    "# Оценим дискриминатор, построим реальные и ложные точки\n",
    "def summarize_performance(epoch, generator, discriminator, latent_dim, n=100):\n",
    "    # Подготовка реальных примеров\n",
    "    x_real, y_real = generate_real_samples(n)\n",
    "    # Оценка дискриминатора на реальных примерах\n",
    "    _, acc_real = discriminator.evaluate(x_real, y_real, verbose=0)\n",
    "    # Подготовка поддельных примеров\n",
    "    x_fake, y_fake = generate_fake_samples(generator, latent_dim, n)\n",
    "    # Оценка дискриминатора на поддельных примерах\n",
    "    _, acc_fake = discriminator.evaluate(x_fake, y_fake, verbose=0)\n",
    "    # Итог производительности дискриминатора\n",
    "    print(epoch, acc_real, acc_fake)\n",
    "    # График поддельных и реальных точек\n",
    "    pyplot.scatter(x_real[:, 0], x_real[:, 1], color='red')\n",
    "    pyplot.scatter(x_fake[:, 0], x_fake[:, 1], color='blue')\n",
    "    pyplot.show()"
   ]
  },
  {
   "cell_type": "code",
   "execution_count": 11,
   "metadata": {},
   "outputs": [],
   "source": [
    "def train(g_model, d_model, gan_model, latent_dim, n_epochs=10000, n_batch=128, n_eval=2000):\n",
    "    # Определим половину размера одного пакета, для обновления дискриминатора\n",
    "    half_batch = int(n_batch / 2)\n",
    "    # Обходим эпохи\n",
    "    for i in range(n_epochs):\n",
    "        # Подготовка реальных примеров\n",
    "        x_real, y_real = generate_real_samples(half_batch)\n",
    "        # Подготовка поддельных примеров\n",
    "        x_fake, y_fake = generate_fake_samples(g_model, latent_dim, half_batch)\n",
    "        # Обновление дискриминатора\n",
    "        d_model.train_on_batch(x_real, y_real)\n",
    "        d_model.train_on_batch(x_fake, y_fake)\n",
    "        # Подготовка точек в скрытом пространстве, в качестве входных данных для генератора\n",
    "        x_gan = generate_latent_points(latent_dim, n_batch)\n",
    "        # Создадим перевернутые метки для поддельных образцов\n",
    "        y_gan = np.ones((n_batch, 1))\n",
    "        # Обновим генератор, используя ошибку дискриминатора\n",
    "        gan_model.train_on_batch(x_gan, y_gan)\n",
    "        # Оценим модель, на каждой из n_eval эпох\n",
    "        if (i + 1) % n_eval == 0:\n",
    "            summarize_performance(i, g_model, d_model, latent_dim)"
   ]
  },
  {
   "cell_type": "code",
   "execution_count": 12,
   "metadata": {},
   "outputs": [],
   "source": [
    "latent_dim = 5\n",
    "discriminator = define_discriminator()\n",
    "generator = define_generator(latent_dim)\n",
    "gan = define_gan(generator, discriminator)"
   ]
  },
  {
   "cell_type": "code",
   "execution_count": 13,
   "metadata": {
    "scrolled": true
   },
   "outputs": [
    {
     "name": "stdout",
     "output_type": "stream",
     "text": [
      "1999 0.44999998807907104 0.9900000095367432\n"
     ]
    },
    {
     "data": {
      "image/png": "[encoded data removed]",
      "text/plain": [
       "<Figure size 432x288 with 1 Axes>"
      ]
     },
     "metadata": {},
     "output_type": "display_data"
    },
    {
     "name": "stdout",
     "output_type": "stream",
     "text": [
      "3999 0.6399999856948853 0.6499999761581421\n"
     ]
    },
    {
     "data": {
      "image/png": "[encoded data removed]",
      "text/plain": [
       "<Figure size 432x288 with 1 Axes>"
      ]
     },
     "metadata": {},
     "output_type": "display_data"
    },
    {
     "name": "stdout",
     "output_type": "stream",
     "text": [
      "5999 0.6200000047683716 0.3799999952316284\n"
     ]
    },
    {
     "data": {
      "image/png": "[encoded data removed]",
      "text/plain": [
       "<Figure size 432x288 with 1 Axes>"
      ]
     },
     "metadata": {},
     "output_type": "display_data"
    },
    {
     "name": "stdout",
     "output_type": "stream",
     "text": [
      "7999 0.46000000834465027 0.5899999737739563\n"
     ]
    },
    {
     "data": {
      "image/png": "[encoded data removed]",
      "text/plain": [
       "<Figure size 432x288 with 1 Axes>"
      ]
     },
     "metadata": {},
     "output_type": "display_data"
    },
    {
     "name": "stdout",
     "output_type": "stream",
     "text": [
      "9999 0.6299999952316284 0.3199999928474426\n"
     ]
    },
    {
     "data": {
      "image/png": "[encoded data removed]",
      "text/plain": [
       "<Figure size 432x288 with 1 Axes>"
      ]
     },
     "metadata": {},
     "output_type": "display_data"
    }
   ],
   "source": [
    "#plot_model(discriminator, to_file=\"discriminator.png\", show_shapes=True)\n",
    "#plot_model(generator, to_file=\"generator.png\", show_shapes=True)\n",
    "#plot_model(gan, to_file=\"gan.png\", show_shapes=True)\n",
    "train(generator, discriminator, gan, latent_dim)"
   ]
  },
  {
   "cell_type": "markdown",
   "metadata": {},
   "source": [
    "### Генератор искуственной среды"
   ]
  },
  {
   "cell_type": "code",
   "execution_count": null,
   "metadata": {},
   "outputs": [],
   "source": [
    "n = int(128 / 2)\n",
    "epoch =0\n",
    "# Подготовка реальных примеров\n",
    "x_real, y_real = generate_real_samples(n)\n",
    "# Оценка дискриминатора на реальных примерах\n",
    "_, acc_real = discriminator.evaluate(x_real, y_real, verbose=0)"
   ]
  },
  {
   "cell_type": "code",
   "execution_count": 46,
   "metadata": {},
   "outputs": [
    {
     "name": "stdout",
     "output_type": "stream",
     "text": [
      "0 0.625 0.421875\n"
     ]
    },
    {
     "data": {
      "image/png": "[encoded data removed]",
      "text/plain": [
       "<Figure size 432x288 with 1 Axes>"
      ]
     },
     "metadata": {},
     "output_type": "display_data"
    }
   ],
   "source": [
    "# Подготовка поддельных примеров\n",
    "x_fake, y_fake = generate_fake_samples(generator, latent_dim, n)\n",
    "# Оценка дискриминатора на поддельных примерах\n",
    "_, acc_fake = discriminator.evaluate(x_fake, y_fake, verbose=0)\n",
    "# Итог производительности дискриминатора\n",
    "print(epoch, acc_real, acc_fake)\n",
    "# График поддельных и реальных точек\n",
    "#pyplot.scatter(x_real[:, 0], x_real[:, 1], color='red')\n",
    "pyplot.scatter(x_fake[:, 0], x_fake[:, 1], color='blue')\n",
    "pyplot.show()"
   ]
  },
  {
   "cell_type": "code",
   "execution_count": null,
   "metadata": {},
   "outputs": [],
   "source": []
  }
 ],
 "metadata": {
  "kernelspec": {
   "display_name": "Python 3",
   "language": "python",
   "name": "python3"
  },
  "language_info": {
   "codemirror_mode": {
    "name": "ipython",
    "version": 3
   },
   "file_extension": ".py",
   "mimetype": "text/x-python",
   "name": "python",
   "nbconvert_exporter": "python",
   "pygments_lexer": "ipython3",
   "version": "3.6.9"
  }
 },
 "nbformat": 4,
 "nbformat_minor": 2
}
